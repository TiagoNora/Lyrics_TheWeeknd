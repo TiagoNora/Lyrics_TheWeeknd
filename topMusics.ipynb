{
 "cells": [
  {
   "cell_type": "code",
   "execution_count": 21,
   "metadata": {},
   "outputs": [],
   "source": [
    "import pandas as pd\n",
    "import matplotlib.pyplot as plt"
   ]
  },
  {
   "cell_type": "code",
   "execution_count": 15,
   "metadata": {},
   "outputs": [
    {
     "data": {
      "text/html": [
       "<div>\n",
       "<style scoped>\n",
       "    .dataframe tbody tr th:only-of-type {\n",
       "        vertical-align: middle;\n",
       "    }\n",
       "\n",
       "    .dataframe tbody tr th {\n",
       "        vertical-align: top;\n",
       "    }\n",
       "\n",
       "    .dataframe thead th {\n",
       "        text-align: right;\n",
       "    }\n",
       "</style>\n",
       "<table border=\"1\" class=\"dataframe\">\n",
       "  <thead>\n",
       "    <tr style=\"text-align: right;\">\n",
       "      <th></th>\n",
       "      <th>name</th>\n",
       "      <th>market</th>\n",
       "      <th>popularity</th>\n",
       "    </tr>\n",
       "  </thead>\n",
       "  <tbody>\n",
       "    <tr>\n",
       "      <th>0</th>\n",
       "      <td>Starboy</td>\n",
       "      <td>AD</td>\n",
       "      <td>93</td>\n",
       "    </tr>\n",
       "    <tr>\n",
       "      <th>1</th>\n",
       "      <td>Die For You</td>\n",
       "      <td>AD</td>\n",
       "      <td>90</td>\n",
       "    </tr>\n",
       "    <tr>\n",
       "      <th>2</th>\n",
       "      <td>One Of The Girls (with JENNIE, Lily Rose Depp)</td>\n",
       "      <td>AD</td>\n",
       "      <td>93</td>\n",
       "    </tr>\n",
       "    <tr>\n",
       "      <th>3</th>\n",
       "      <td>Blinding Lights</td>\n",
       "      <td>AD</td>\n",
       "      <td>91</td>\n",
       "    </tr>\n",
       "    <tr>\n",
       "      <th>4</th>\n",
       "      <td>Creepin' (with The Weeknd &amp; 21 Savage)</td>\n",
       "      <td>AD</td>\n",
       "      <td>91</td>\n",
       "    </tr>\n",
       "    <tr>\n",
       "      <th>...</th>\n",
       "      <td>...</td>\n",
       "      <td>...</td>\n",
       "      <td>...</td>\n",
       "    </tr>\n",
       "    <tr>\n",
       "      <th>1835</th>\n",
       "      <td>Popular (with Playboi Carti &amp; Madonna) - Music...</td>\n",
       "      <td>ZW</td>\n",
       "      <td>91</td>\n",
       "    </tr>\n",
       "    <tr>\n",
       "      <th>1836</th>\n",
       "      <td>Stargirl Interlude</td>\n",
       "      <td>ZW</td>\n",
       "      <td>87</td>\n",
       "    </tr>\n",
       "    <tr>\n",
       "      <th>1837</th>\n",
       "      <td>Die For You (with Ariana Grande) - Remix</td>\n",
       "      <td>ZW</td>\n",
       "      <td>83</td>\n",
       "    </tr>\n",
       "    <tr>\n",
       "      <th>1838</th>\n",
       "      <td>Save Your Tears</td>\n",
       "      <td>ZW</td>\n",
       "      <td>88</td>\n",
       "    </tr>\n",
       "    <tr>\n",
       "      <th>1839</th>\n",
       "      <td>Reminder</td>\n",
       "      <td>ZW</td>\n",
       "      <td>88</td>\n",
       "    </tr>\n",
       "  </tbody>\n",
       "</table>\n",
       "<p>1840 rows × 3 columns</p>\n",
       "</div>"
      ],
      "text/plain": [
       "                                                   name market  popularity\n",
       "0                                               Starboy     AD          93\n",
       "1                                           Die For You     AD          90\n",
       "2        One Of The Girls (with JENNIE, Lily Rose Depp)     AD          93\n",
       "3                                       Blinding Lights     AD          91\n",
       "4                Creepin' (with The Weeknd & 21 Savage)     AD          91\n",
       "...                                                 ...    ...         ...\n",
       "1835  Popular (with Playboi Carti & Madonna) - Music...     ZW          91\n",
       "1836                                 Stargirl Interlude     ZW          87\n",
       "1837           Die For You (with Ariana Grande) - Remix     ZW          83\n",
       "1838                                    Save Your Tears     ZW          88\n",
       "1839                                           Reminder     ZW          88\n",
       "\n",
       "[1840 rows x 3 columns]"
      ]
     },
     "execution_count": 15,
     "metadata": {},
     "output_type": "execute_result"
    }
   ],
   "source": [
    "df = pd.read_csv(\"./topMusics.csv\")\n",
    "df\n"
   ]
  },
  {
   "cell_type": "code",
   "execution_count": 19,
   "metadata": {},
   "outputs": [
    {
     "name": "stdout",
     "output_type": "stream",
     "text": [
      "                                                 name  popularity  count\n",
      "11                                            Starboy          93    184\n",
      "0                                     Blinding Lights          91    184\n",
      "3                                         Die For You          90    184\n",
      "8                                            Reminder          88    184\n",
      "9                                     Save Your Tears          88    184\n",
      "12                                 Stargirl Interlude          87    184\n",
      "6      One Of The Girls (with JENNIE, Lily Rose Depp)          93    183\n",
      "2              Creepin' (with The Weeknd & 21 Savage)          91    183\n",
      "7   Popular (with Playboi Carti & Madonna) - Music...          91    183\n",
      "4            Die For You (with Ariana Grande) - Remix          83    183\n",
      "13                                          The Hills          88      1\n",
      "10       Save Your Tears (with Ariana Grande) (Remix)          83      1\n",
      "1                                    Call Out My Name          45      1\n",
      "5                                   I Was Never There          45      1\n"
     ]
    }
   ],
   "source": [
    "name_popularity_counts = df.groupby('name')['popularity'].value_counts()\n",
    "\n",
    "# Convert the resulting Series to a DataFrame for easier manipulation\n",
    "result_df = name_popularity_counts.reset_index(name='count')\n",
    "\n",
    "# Sort by decreasing counts and then by decreasing popularity values within each count group\n",
    "sorted_result_df = result_df.sort_values(by=['count', 'popularity'], ascending=[False, False])\n",
    "\n",
    "# Display the unique counts for each 'name' and 'popularity' combination, sorted as described\n",
    "print(sorted_result_df)"
   ]
  }
 ],
 "metadata": {
  "kernelspec": {
   "display_name": "Python 3",
   "language": "python",
   "name": "python3"
  },
  "language_info": {
   "codemirror_mode": {
    "name": "ipython",
    "version": 3
   },
   "file_extension": ".py",
   "mimetype": "text/x-python",
   "name": "python",
   "nbconvert_exporter": "python",
   "pygments_lexer": "ipython3",
   "version": "3.11.2"
  }
 },
 "nbformat": 4,
 "nbformat_minor": 2
}
